{
 "cells": [
  {
   "cell_type": "code",
   "execution_count": null,
   "metadata": {},
   "outputs": [],
   "source": [
    "# default_exp core"
   ]
  },
  {
   "cell_type": "markdown",
   "metadata": {},
   "source": [
    "# module name here\n",
    "\n",
    "> API details."
   ]
  },
  {
   "cell_type": "code",
   "execution_count": 4,
   "metadata": {},
   "outputs": [
    {
     "name": "stdout",
     "output_type": "stream",
     "text": [
      "Defaulting to user installation because normal site-packages is not writeable\n",
      "Requirement already satisfied: nbdev in /home/ray/.local/lib/python3.8/site-packages (1.2.8)\n",
      "Requirement already satisfied: nbconvert>=6.1 in /home/ray/.local/lib/python3.8/site-packages (from nbdev) (6.5.0)\n",
      "Requirement already satisfied: fastcore>=1.4.1 in /home/ray/.local/lib/python3.8/site-packages (from nbdev) (1.4.3)\n",
      "Requirement already satisfied: fastrelease in /home/ray/.local/lib/python3.8/site-packages (from nbdev) (0.1.16)\n",
      "Requirement already satisfied: jupyter in /home/ray/.local/lib/python3.8/site-packages (from nbdev) (1.0.0)\n",
      "Requirement already satisfied: pip in /home/ray/.local/lib/python3.8/site-packages (from nbdev) (21.3.1)\n",
      "Requirement already satisfied: pyyaml in /usr/lib/python3/dist-packages (from nbdev) (5.3.1)\n",
      "Requirement already satisfied: Jinja2<3.1.0 in /home/ray/.local/lib/python3.8/site-packages (from nbdev) (3.0.3)\n",
      "Requirement already satisfied: jupyter-client<8 in /home/ray/.local/lib/python3.8/site-packages (from nbdev) (7.3.1)\n",
      "Requirement already satisfied: ipykernel in /home/ray/.local/lib/python3.8/site-packages (from nbdev) (5.5.4)\n",
      "Requirement already satisfied: packaging in /home/ray/.local/lib/python3.8/site-packages (from nbdev) (20.9)\n",
      "Requirement already satisfied: ghapi in /home/ray/.local/lib/python3.8/site-packages (from nbdev) (0.1.20)\n",
      "Requirement already satisfied: nbformat>=4.4.0 in /home/ray/.local/lib/python3.8/site-packages (from nbdev) (5.1.3)\n",
      "Requirement already satisfied: MarkupSafe>=2.0 in /home/ray/.local/lib/python3.8/site-packages (from Jinja2<3.1.0->nbdev) (2.1.1)\n",
      "Requirement already satisfied: pyzmq>=22.3 in /home/ray/.local/lib/python3.8/site-packages (from jupyter-client<8->nbdev) (23.0.0)\n",
      "Requirement already satisfied: traitlets in /home/ray/.local/lib/python3.8/site-packages (from jupyter-client<8->nbdev) (5.0.5)\n",
      "Requirement already satisfied: python-dateutil>=2.8.2 in /home/ray/.local/lib/python3.8/site-packages (from jupyter-client<8->nbdev) (2.8.2)\n",
      "Requirement already satisfied: entrypoints in /usr/lib/python3/dist-packages (from jupyter-client<8->nbdev) (0.3)\n",
      "Requirement already satisfied: tornado>=6.0 in /home/ray/.local/lib/python3.8/site-packages (from jupyter-client<8->nbdev) (6.1)\n",
      "Requirement already satisfied: jupyter-core>=4.9.2 in /home/ray/.local/lib/python3.8/site-packages (from jupyter-client<8->nbdev) (4.10.0)\n",
      "Requirement already satisfied: nest-asyncio>=1.5.4 in /home/ray/.local/lib/python3.8/site-packages (from jupyter-client<8->nbdev) (1.5.5)\n",
      "Requirement already satisfied: pygments>=2.4.1 in /home/ray/.local/lib/python3.8/site-packages (from nbconvert>=6.1->nbdev) (2.9.0)\n",
      "Requirement already satisfied: defusedxml in /usr/lib/python3/dist-packages (from nbconvert>=6.1->nbdev) (0.6.0)\n",
      "Requirement already satisfied: beautifulsoup4 in /usr/lib/python3/dist-packages (from nbconvert>=6.1->nbdev) (4.8.2)\n",
      "Requirement already satisfied: mistune<2,>=0.8.1 in /home/ray/.local/lib/python3.8/site-packages (from nbconvert>=6.1->nbdev) (0.8.4)\n",
      "Requirement already satisfied: jupyterlab-pygments in /home/ray/.local/lib/python3.8/site-packages (from nbconvert>=6.1->nbdev) (0.1.2)\n",
      "Requirement already satisfied: pandocfilters>=1.4.1 in /home/ray/.local/lib/python3.8/site-packages (from nbconvert>=6.1->nbdev) (1.4.3)\n",
      "Requirement already satisfied: tinycss2 in /home/ray/.local/lib/python3.8/site-packages (from nbconvert>=6.1->nbdev) (1.1.1)\n",
      "Requirement already satisfied: nbclient>=0.5.0 in /home/ray/.local/lib/python3.8/site-packages (from nbconvert>=6.1->nbdev) (0.5.3)\n",
      "Requirement already satisfied: bleach in /home/ray/.local/lib/python3.8/site-packages (from nbconvert>=6.1->nbdev) (3.3.0)\n",
      "Requirement already satisfied: jsonschema!=2.5.0,>=2.4 in /usr/lib/python3/dist-packages (from nbformat>=4.4.0->nbdev) (3.2.0)\n",
      "Requirement already satisfied: ipython-genutils in /home/ray/.local/lib/python3.8/site-packages (from nbformat>=4.4.0->nbdev) (0.2.0)\n",
      "Requirement already satisfied: ipython>=5.0.0 in /home/ray/.local/lib/python3.8/site-packages (from ipykernel->nbdev) (7.23.1)\n",
      "Requirement already satisfied: notebook in /home/ray/.local/lib/python3.8/site-packages (from jupyter->nbdev) (6.3.0)\n",
      "Requirement already satisfied: jupyter-console in /home/ray/.local/lib/python3.8/site-packages (from jupyter->nbdev) (6.4.3)\n",
      "Requirement already satisfied: qtconsole in /home/ray/.local/lib/python3.8/site-packages (from jupyter->nbdev) (5.3.0)\n",
      "Requirement already satisfied: ipywidgets in /home/ray/.local/lib/python3.8/site-packages (from jupyter->nbdev) (7.6.3)\n",
      "Requirement already satisfied: pyparsing>=2.0.2 in /usr/local/lib/python3.8/dist-packages (from packaging->nbdev) (2.4.7)\n",
      "Requirement already satisfied: decorator in /home/ray/.local/lib/python3.8/site-packages (from ipython>=5.0.0->ipykernel->nbdev) (5.0.7)\n",
      "Requirement already satisfied: backcall in /home/ray/.local/lib/python3.8/site-packages (from ipython>=5.0.0->ipykernel->nbdev) (0.2.0)\n",
      "Requirement already satisfied: prompt-toolkit!=3.0.0,!=3.0.1,<3.1.0,>=2.0.0 in /home/ray/.local/lib/python3.8/site-packages (from ipython>=5.0.0->ipykernel->nbdev) (3.0.18)\n",
      "Requirement already satisfied: matplotlib-inline in /home/ray/.local/lib/python3.8/site-packages (from ipython>=5.0.0->ipykernel->nbdev) (0.1.2)\n",
      "Requirement already satisfied: jedi>=0.16 in /home/ray/.local/lib/python3.8/site-packages (from ipython>=5.0.0->ipykernel->nbdev) (0.18.0)\n",
      "Requirement already satisfied: pickleshare in /home/ray/.local/lib/python3.8/site-packages (from ipython>=5.0.0->ipykernel->nbdev) (0.7.5)\n",
      "Requirement already satisfied: setuptools>=18.5 in /usr/lib/python3/dist-packages (from ipython>=5.0.0->ipykernel->nbdev) (45.2.0)\n",
      "Requirement already satisfied: pexpect>4.3 in /usr/lib/python3/dist-packages (from ipython>=5.0.0->ipykernel->nbdev) (4.6.0)\n",
      "Requirement already satisfied: async-generator in /home/ray/.local/lib/python3.8/site-packages (from nbclient>=0.5.0->nbconvert>=6.1->nbdev) (1.10)\n",
      "Requirement already satisfied: six>=1.5 in /usr/lib/python3/dist-packages (from python-dateutil>=2.8.2->jupyter-client<8->nbdev) (1.14.0)\n",
      "Requirement already satisfied: webencodings in /home/ray/.local/lib/python3.8/site-packages (from bleach->nbconvert>=6.1->nbdev) (0.5.1)\n",
      "Requirement already satisfied: widgetsnbextension~=3.5.0 in /home/ray/.local/lib/python3.8/site-packages (from ipywidgets->jupyter->nbdev) (3.5.1)\n",
      "Requirement already satisfied: jupyterlab-widgets>=1.0.0 in /home/ray/.local/lib/python3.8/site-packages (from ipywidgets->jupyter->nbdev) (1.0.0)\n",
      "Requirement already satisfied: argon2-cffi in /home/ray/.local/lib/python3.8/site-packages (from notebook->jupyter->nbdev) (20.1.0)\n",
      "Requirement already satisfied: terminado>=0.8.3 in /home/ray/.local/lib/python3.8/site-packages (from notebook->jupyter->nbdev) (0.9.4)\n",
      "Requirement already satisfied: prometheus-client in /home/ray/.local/lib/python3.8/site-packages (from notebook->jupyter->nbdev) (0.10.1)\n",
      "Requirement already satisfied: Send2Trash>=1.5.0 in /home/ray/.local/lib/python3.8/site-packages (from notebook->jupyter->nbdev) (1.5.0)\n",
      "Requirement already satisfied: qtpy>=2.0.1 in /home/ray/.local/lib/python3.8/site-packages (from qtconsole->jupyter->nbdev) (2.1.0)\n",
      "Requirement already satisfied: parso<0.9.0,>=0.8.0 in /home/ray/.local/lib/python3.8/site-packages (from jedi>=0.16->ipython>=5.0.0->ipykernel->nbdev) (0.8.2)\n",
      "Requirement already satisfied: wcwidth in /home/ray/.local/lib/python3.8/site-packages (from prompt-toolkit!=3.0.0,!=3.0.1,<3.1.0,>=2.0.0->ipython>=5.0.0->ipykernel->nbdev) (0.2.5)\n",
      "Requirement already satisfied: ptyprocess in /home/ray/.local/lib/python3.8/site-packages (from terminado>=0.8.3->notebook->jupyter->nbdev) (0.7.0)\n",
      "Requirement already satisfied: cffi>=1.0.0 in /home/ray/.local/lib/python3.8/site-packages (from argon2-cffi->notebook->jupyter->nbdev) (1.14.5)\n",
      "Requirement already satisfied: pycparser in /home/ray/.local/lib/python3.8/site-packages (from cffi>=1.0.0->argon2-cffi->notebook->jupyter->nbdev) (2.20)\n",
      "\u001b[33mWARNING: You are using pip version 21.3.1; however, version 22.1.1 is available.\n",
      "You should consider upgrading via the '/usr/bin/python3 -m pip install --upgrade pip' command.\u001b[0m\n"
     ]
    }
   ],
   "source": [
    "! pip3 install nbdev"
   ]
  },
  {
   "cell_type": "code",
   "execution_count": 5,
   "metadata": {},
   "outputs": [],
   "source": [
    "#hide\n",
    "from nbdev.showdoc import *"
   ]
  },
  {
   "cell_type": "code",
   "execution_count": 6,
   "metadata": {},
   "outputs": [],
   "source": [
    "#|export\n",
    "def say_hello(to):\n",
    "    \"Say hello to somebody\"\n",
    "    return f'Hello {to}!'"
   ]
  },
  {
   "cell_type": "code",
   "execution_count": 7,
   "metadata": {},
   "outputs": [
    {
     "data": {
      "text/plain": [
       "'Hello Ray!'"
      ]
     },
     "execution_count": 7,
     "metadata": {},
     "output_type": "execute_result"
    }
   ],
   "source": [
    "say_hello(\"Ray\")"
   ]
  },
  {
   "cell_type": "code",
   "execution_count": 8,
   "metadata": {},
   "outputs": [],
   "source": [
    "from IPython.display import display,SVG"
   ]
  },
  {
   "cell_type": "code",
   "execution_count": 9,
   "metadata": {},
   "outputs": [
    {
     "data": {
      "image/svg+xml": [
       "<svg height=\"100\"><circle cx=\"50\" cy=\"50\" r=\"40\"/></svg>"
      ],
      "text/plain": [
       "<IPython.core.display.SVG object>"
      ]
     },
     "metadata": {},
     "output_type": "display_data"
    }
   ],
   "source": [
    "display(SVG('<svg height=\"100\"><circle cx=\"50\" cy=\"50\" r=\"40\"/></svg>'))"
   ]
  },
  {
   "cell_type": "code",
   "execution_count": 11,
   "metadata": {},
   "outputs": [],
   "source": [
    "assert say_hello(\"Ray\")==\"Hello Ray!\""
   ]
  },
  {
   "cell_type": "code",
   "execution_count": null,
   "metadata": {},
   "outputs": [],
   "source": []
  }
 ],
 "metadata": {
  "kernelspec": {
   "display_name": "Python 3",
   "language": "python",
   "name": "python3"
  },
  "language_info": {
   "codemirror_mode": {
    "name": "ipython",
    "version": 3
   },
   "file_extension": ".py",
   "mimetype": "text/x-python",
   "name": "python",
   "nbconvert_exporter": "python",
   "pygments_lexer": "ipython3",
   "version": "3.8.10"
  }
 },
 "nbformat": 4,
 "nbformat_minor": 2
}
